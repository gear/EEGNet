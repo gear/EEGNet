{
 "cells": [
  {
   "cell_type": "code",
   "execution_count": 1,
   "metadata": {
    "collapsed": false
   },
   "outputs": [
    {
     "name": "stderr",
     "output_type": "stream",
     "text": [
      "INFO: Checking out EEG master...\n",
      "INFO: Pulling EEG latest master...\n",
      "INFO: No packages to install, update or remove\n"
     ]
    }
   ],
   "source": [
    "# Update EEG\n",
    "Pkg.checkout(\"EEG\")"
   ]
  },
  {
   "cell_type": "code",
   "execution_count": 2,
   "metadata": {
    "collapsed": false
   },
   "outputs": [
    {
     "name": "stderr",
     "output_type": "stream",
     "text": [
      "WARNING: Method definition info(Any...) in module Base at util.jl:338 overwritten in module Logging at /home/hoangnt/.julia/v0.5/Logging/src/Logging.jl:61.\n",
      "WARNING: Method definition warn(Any...) in module Base at util.jl:368 overwritten in module Logging at /home/hoangnt/.julia/v0.5/Logging/src/Logging.jl:61.\n",
      "WARNING: Base.LambdaStaticData is deprecated, use LambdaInfo instead.\n",
      "  likely near /home/hoangnt/.julia/v0.5/Docile/src/Utilities.jl:122\n",
      "INFO: Recompiling stale cache file /home/hoangnt/.julia/lib/v0.5/StatsBase.ji for module StatsBase.\n",
      "INFO: Recompiling stale cache file /home/hoangnt/.julia/lib/v0.5/ArrayViews.ji for module ArrayViews.\n",
      "WARNING: Method definition (::Type{ArrayViews.UnsafeContiguousView})(Ptr{#T<:Any}, Int64, NTuple{#N<:Any, Int64}) in module ArrayViews at /home/hoangnt/.julia/v0.5/ArrayViews/src/arrviews.jl:18 overwritten at /home/hoangnt/.julia/v0.5/ArrayViews/src/arrviews.jl:26.\n",
      "INFO: Recompiling stale cache file /home/hoangnt/.julia/lib/v0.5/DataArrays.ji for module DataArrays.\n",
      "INFO: Recompiling stale cache file /home/hoangnt/.julia/lib/v0.5/GZip.ji for module GZip.\n",
      "WARNING: Base.FileOffset is deprecated, use Int64 instead.\n",
      "  likely near /home/hoangnt/.julia/v0.5/GZip/src/zlib_h.jl:86\n",
      "WARNING: Base.FileOffset is deprecated, use Int64 instead.\n",
      "  likely near /home/hoangnt/.julia/v0.5/GZip/src/zlib_h.jl:88\n",
      "WARNING: Base.FileOffset is deprecated, use Int64 instead.\n",
      "  likely near /home/hoangnt/.julia/v0.5/GZip/src/zlib_h.jl:88\n",
      "WARNING: New definition \n",
      "    write(GZip.GZipStream, Array{#T<:Any, N<:Any}) at /home/hoangnt/.julia/v0.5/GZip/src/GZip.jl:456\n",
      "is ambiguous with: \n",
      "    write(Base.IO, Array{UInt8, N<:Any}) at io.jl:154.\n",
      "To fix, define \n",
      "    write(GZip.GZipStream, Array{UInt8, N<:Any})\n",
      "before the new definition.\n",
      "WARNING: New definition \n",
      "    write(GZip.GZipStream, Array{#T<:Any, N<:Any}) at /home/hoangnt/.julia/v0.5/GZip/src/GZip.jl:456\n",
      "is ambiguous with: \n",
      "    write(Base.IO, Array{UInt8, N<:Any}) at io.jl:154.\n",
      "To fix, define \n",
      "    write(GZip.GZipStream, Array{UInt8, N<:Any})\n",
      "before the new definition.\n",
      "INFO: Recompiling stale cache file /home/hoangnt/.julia/lib/v0.5/SortingAlgorithms.ji for module SortingAlgorithms.\n",
      "WARNING: New definition \n",
      "    write(GZip.GZipStream, Array{#T<:Any, N<:Any}) at /home/hoangnt/.julia/v0.5/GZip/src/GZip.jl:456\n",
      "is ambiguous with: \n",
      "    write(Base.IO, Array{UInt8, N<:Any}) at io.jl:154.\n",
      "To fix, define \n",
      "    write(GZip.GZipStream, Array{UInt8, N<:Any})\n",
      "before the new definition.\n",
      "WARNING: Method definition evaluate(Distances.BhattacharyyaDist, #T<:Number, #T<:Number) in module Distances at /home/hoangnt/.julia/v0.5/Distances/src/bhattacharyya.jl:38 overwritten at /home/hoangnt/.julia/v0.5/Distances/src/bhattacharyya.jl:44.\n",
      "WARNING: Method definition (::Type{AWS.S3.CreateBucketConfiguration})(Any) in module S3 at /home/hoangnt/.julia/v0.5/AWS/src/s3_types.jl:151 overwritten at /home/hoangnt/.julia/v0.5/AWS/src/s3_types.jl:153.\n",
      "WARNING: Method definition (::Type{AWS.S3.CommonPrefixes})(Any) in module S3 at /home/hoangnt/.julia/v0.5/AWS/src/s3_types.jl:185 overwritten at /home/hoangnt/.julia/v0.5/AWS/src/s3_types.jl:187.\n",
      "WARNING: Method definition (::Type{AWS.S3.RequestPaymentConfiguration})(Any) in module S3 at /home/hoangnt/.julia/v0.5/AWS/src/s3_types.jl:346 overwritten at /home/hoangnt/.julia/v0.5/AWS/src/s3_types.jl:349.\n",
      "WARNING: Method definition (::Type{AWS.S3.NotificationConfiguration})(Any) in module S3 at /home/hoangnt/.julia/v0.5/AWS/src/s3_types.jl:397 overwritten at /home/hoangnt/.julia/v0.5/AWS/src/s3_types.jl:399.\n",
      "WARNING: Method definition (::Type{AWS.S3.CORSConfiguration})(Any) in module S3 at /home/hoangnt/.julia/v0.5/AWS/src/s3_types.jl:596 overwritten at /home/hoangnt/.julia/v0.5/AWS/src/s3_types.jl:599.\n",
      "WARNING: Method definition digitalfilter(DSP.Filters.FilterType, DSP.Filters.FilterCoefficients) in module Filters at /home/hoangnt/.julia/v0.5/DSP/src/Filters/design.jl:387 overwritten at /home/hoangnt/.julia/v0.5/DSP/src/Filters/design.jl:389.\n",
      "INFO: Recompiling stale cache file /home/hoangnt/.julia/lib/v0.5/PDMats.ji for module PDMats.\n",
      "WARNING: Method definition (::Type{Distributions.MvNormalKnownCov})(#Cov<:PDMats.AbstractPDMat) in module Distributions at /home/hoangnt/.julia/v0.5/Distributions/src/multivariate/mvnormal.jl:149 overwritten at /home/hoangnt/.julia/v0.5/Distributions/src/multivariate/mvnormal.jl:152.\n",
      "INFO: Recompiling stale cache file /home/hoangnt/.julia/lib/v0.5/Colors.ji for module Colors.\n",
      "INFO: Recompiling stale cache file /home/hoangnt/.julia/lib/v0.5/FixedPointNumbers.ji for module FixedPointNumbers.\n",
      "INFO: Recompiling stale cache file /home/hoangnt/.julia/lib/v0.5/ColorTypes.ji for module ColorTypes.\n",
      "WARNING: Method definition require(Symbol) in module Base at loading.jl:308 overwritten at /home/hoangnt/.julia/v0.5/Requires/src/hook.jl:17.\n"
     ]
    },
    {
     "ename": "LoadError",
     "evalue": "LoadError: LoadError: MethodError: objects of type LambdaInfo are not callable\nwhile loading /home/hoangnt/.julia/v0.5/EEG/src/EEG.jl, in expression starting on line 4\nwhile loading In[2], in expression starting on line 1",
     "output_type": "error",
     "traceback": [
      "LoadError: LoadError: MethodError: objects of type LambdaInfo are not callable\nwhile loading /home/hoangnt/.julia/v0.5/EEG/src/EEG.jl, in expression starting on line 4\nwhile loading In[2], in expression starting on line 1",
      ""
     ]
    }
   ],
   "source": [
    "using EEG"
   ]
  },
  {
   "cell_type": "code",
   "execution_count": 3,
   "metadata": {
    "collapsed": false
   },
   "outputs": [
    {
     "ename": "LoadError",
     "evalue": "LoadError: UndefVarError: read_SSR not defined\nwhile loading In[3], in expression starting on line 1",
     "output_type": "error",
     "traceback": [
      "LoadError: UndefVarError: read_SSR not defined\nwhile loading In[3], in expression starting on line 1",
      ""
     ]
    }
   ],
   "source": [
    "read_SSR"
   ]
  },
  {
   "cell_type": "code",
   "execution_count": null,
   "metadata": {
    "collapsed": true
   },
   "outputs": [],
   "source": []
  }
 ],
 "metadata": {
  "kernelspec": {
   "display_name": "Julia 0.5.0-dev",
   "language": "julia",
   "name": "julia-0.5"
  },
  "language_info": {
   "file_extension": ".jl",
   "mimetype": "application/julia",
   "name": "julia",
   "version": "0.5.0"
  }
 },
 "nbformat": 4,
 "nbformat_minor": 0
}
